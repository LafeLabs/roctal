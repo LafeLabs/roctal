{
 "cells": [
  {
   "cell_type": "code",
   "execution_count": 4,
   "metadata": {
    "collapsed": true
   },
   "outputs": [],
   "source": [
    "%matplotlib inline\n",
    "from pylab import *"
   ]
  },
  {
   "cell_type": "code",
   "execution_count": 6,
   "metadata": {
    "collapsed": false
   },
   "outputs": [],
   "source": [
    "import os.path\n",
    "from gdsCAD import *\n"
   ]
  },
  {
   "cell_type": "code",
   "execution_count": 9,
   "metadata": {
    "collapsed": true
   },
   "outputs": [],
   "source": [
    "# Create some things to draw:\n",
    "amarks = templates.AlignmentMarks(('A', 'C'), (1,2))\n",
    "text = shapes.Label('Hello\\nworld!', 200, (0, 0))\n",
    "box = shapes.Box((-500, -400), (1500, 400), 10, layer=2)\n"
   ]
  },
  {
   "cell_type": "code",
   "execution_count": 10,
   "metadata": {
    "collapsed": true
   },
   "outputs": [],
   "source": [
    "\n",
    "# Create a Cell to hold the objects\n",
    "cell = core.Cell('EXAMPLE')\n",
    "cell.add([text, box])\n",
    "cell.add(amarks, origin=(-200, 0))\n",
    "cell.add(amarks, origin=(1200, 0))\n",
    "\n"
   ]
  },
  {
   "cell_type": "code",
   "execution_count": 11,
   "metadata": {
    "collapsed": true
   },
   "outputs": [],
   "source": [
    "# Create two copies of the Cell\n",
    "top = core.Cell('TOP')\n",
    "cell_array = core.CellArray(cell, 1, 2, (0, 850))\n",
    "top.add(cell_array)\n",
    "\n"
   ]
  },
  {
   "cell_type": "code",
   "execution_count": 12,
   "metadata": {
    "collapsed": false
   },
   "outputs": [
    {
     "name": "stdout",
     "output_type": "stream",
     "text": [
      "Writing the following cells\n",
      "CONT_ALGN: Cell (\"CONT_ALGN\", 9 elements, 0 references)\n",
      "TOP: Cell (\"TOP\", 0 elements, 1 references)\n",
      "EXAMPLE: Cell (\"EXAMPLE\", 2 elements, 2 references)\n"
     ]
    }
   ],
   "source": [
    "# Add the copied cell to a Layout and save\n",
    "layout = core.Layout('LIBRARY')\n",
    "layout.add(top)\n",
    "layout.save('output.gds')\n",
    "\n"
   ]
  },
  {
   "cell_type": "code",
   "execution_count": 15,
   "metadata": {
    "collapsed": false
   },
   "outputs": [
    {
     "name": "stdout",
     "output_type": "stream",
     "text": [
      "Writing the following cells\n",
      "CONT_ALGN: Cell (\"CONT_ALGN\", 9 elements, 0 references)\n",
      "TOP: Cell (\"TOP\", 0 elements, 1 references)\n",
      "EXAMPLE: Cell (\"EXAMPLE\", 2 elements, 2 references)\n"
     ]
    }
   ],
   "source": [
    "layout.save(\"foo\")"
   ]
  },
  {
   "cell_type": "code",
   "execution_count": null,
   "metadata": {
    "collapsed": true
   },
   "outputs": [],
   "source": []
  }
 ],
 "metadata": {
  "kernelspec": {
   "display_name": "Python 2",
   "language": "python",
   "name": "python2"
  },
  "language_info": {
   "codemirror_mode": {
    "name": "ipython",
    "version": 2
   },
   "file_extension": ".py",
   "mimetype": "text/x-python",
   "name": "python",
   "nbconvert_exporter": "python",
   "pygments_lexer": "ipython2",
   "version": "2.7.10"
  }
 },
 "nbformat": 4,
 "nbformat_minor": 0
}
